{
  "nbformat": 4,
  "nbformat_minor": 0,
  "metadata": {
    "colab": {
      "name": "sentiment_save_model_twitter.ipynb",
      "provenance": [],
      "collapsed_sections": []
    },
    "kernelspec": {
      "name": "python3",
      "display_name": "Python 3"
    }
  },
  "cells": [
    {
      "cell_type": "code",
      "metadata": {
        "id": "JEITn-GwZHqn",
        "colab_type": "code",
        "colab": {}
      },
      "source": [
        "import nltk,random,pickle\n",
        "from nltk.classify.scikitlearn import SklearnClassifier\n",
        "from sklearn.naive_bayes import MultinomialNB,BernoulliNB\n",
        "from sklearn.linear_model import LogisticRegression,SGDClassifier\n",
        "from sklearn.svm import SVC, LinearSVC, NuSVC\n",
        "from nltk.classify import ClassifierI\n",
        "from statistics import mode\n",
        "from nltk.tokenize import word_tokenize"
      ],
      "execution_count": 0,
      "outputs": []
    },
    {
      "cell_type": "code",
      "metadata": {
        "id": "yI6HEcmiZjUY",
        "colab_type": "code",
        "colab": {}
      },
      "source": [
        "class VoteClassifier(ClassifierI):\n",
        "    def __init__(self, *classifiers):\n",
        "        self._classifiers = classifiers\n",
        "\n",
        "    def classify(self, features):\n",
        "        votes = []\n",
        "        for classifier in self._classifiers:\n",
        "            vote = classifier.classify(features)\n",
        "            votes.append(vote)\n",
        "        return mode(votes)\n",
        "\n",
        "    def confidence(self, features):\n",
        "        votes = []\n",
        "        for classifier in self._classifiers:\n",
        "            vote = classifier.classify(features)\n",
        "            votes.append(vote)\n",
        "\n",
        "        choice_votes = votes.count(mode(votes))\n",
        "        conf = choice_votes / len(votes)\n",
        "        return conf"
      ],
      "execution_count": 0,
      "outputs": []
    },
    {
      "cell_type": "code",
      "metadata": {
        "id": "Qa2fZwGkZ0R9",
        "colab_type": "code",
        "outputId": "1c367642-0066-4aa6-e5db-953c608bca20",
        "colab": {
          "resources": {
            "http://localhost:8080/nbextensions/google.colab/files.js": {
              "data": "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",
              "ok": true,
              "headers": [
                [
                  "content-type",
                  "application/javascript"
                ]
              ],
              "status": 200,
              "status_text": ""
            }
          },
          "base_uri": "https://localhost:8080/",
          "height": 74
        }
      },
      "source": [
        "from google.colab import files \n",
        "uploaded = files.upload()"
      ],
      "execution_count": 0,
      "outputs": [
        {
          "output_type": "display_data",
          "data": {
            "text/html": [
              "\n",
              "     <input type=\"file\" id=\"files-9e775239-c217-4457-85e0-ace4df26fa45\" name=\"files[]\" multiple disabled />\n",
              "     <output id=\"result-9e775239-c217-4457-85e0-ace4df26fa45\">\n",
              "      Upload widget is only available when the cell has been executed in the\n",
              "      current browser session. Please rerun this cell to enable.\n",
              "      </output>\n",
              "      <script src=\"/nbextensions/google.colab/files.js\"></script> "
            ],
            "text/plain": [
              "<IPython.core.display.HTML object>"
            ]
          },
          "metadata": {
            "tags": []
          }
        },
        {
          "output_type": "stream",
          "text": [
            "Saving positive.txt to positive.txt\n"
          ],
          "name": "stdout"
        }
      ]
    },
    {
      "cell_type": "code",
      "metadata": {
        "id": "yRLYVw7daLz1",
        "colab_type": "code",
        "outputId": "6cac975a-fd96-4c33-887d-88afce1e3450",
        "colab": {
          "resources": {
            "http://localhost:8080/nbextensions/google.colab/files.js": {
              "data": "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",
              "ok": true,
              "headers": [
                [
                  "content-type",
                  "application/javascript"
                ]
              ],
              "status": 200,
              "status_text": ""
            }
          },
          "base_uri": "https://localhost:8080/",
          "height": 74
        }
      },
      "source": [
        "from google.colab import files \n",
        "uploaded = files.upload()"
      ],
      "execution_count": 0,
      "outputs": [
        {
          "output_type": "display_data",
          "data": {
            "text/html": [
              "\n",
              "     <input type=\"file\" id=\"files-ab8b4a77-4b95-4302-929c-80c52420a7df\" name=\"files[]\" multiple disabled />\n",
              "     <output id=\"result-ab8b4a77-4b95-4302-929c-80c52420a7df\">\n",
              "      Upload widget is only available when the cell has been executed in the\n",
              "      current browser session. Please rerun this cell to enable.\n",
              "      </output>\n",
              "      <script src=\"/nbextensions/google.colab/files.js\"></script> "
            ],
            "text/plain": [
              "<IPython.core.display.HTML object>"
            ]
          },
          "metadata": {
            "tags": []
          }
        },
        {
          "output_type": "stream",
          "text": [
            "Saving negative.txt to negative.txt\n"
          ],
          "name": "stdout"
        }
      ]
    },
    {
      "cell_type": "code",
      "metadata": {
        "id": "7MikxwX1aX-k",
        "colab_type": "code",
        "colab": {}
      },
      "source": [
        "short_pos = open(\"positive.txt\",\"r\",encoding=\"ISO-8859-1\").read()"
      ],
      "execution_count": 0,
      "outputs": []
    },
    {
      "cell_type": "code",
      "metadata": {
        "id": "gU6UtDgMakgn",
        "colab_type": "code",
        "colab": {}
      },
      "source": [
        "short_neg = open(\"negative.txt\",\"r\", encoding=\"ISO-8859-1\").read()"
      ],
      "execution_count": 0,
      "outputs": []
    },
    {
      "cell_type": "code",
      "metadata": {
        "id": "26y3F2q_atb0",
        "colab_type": "code",
        "colab": {}
      },
      "source": [
        "all_words, documents = [], []"
      ],
      "execution_count": 0,
      "outputs": []
    },
    {
      "cell_type": "code",
      "metadata": {
        "id": "-t_yc9FCbHR3",
        "colab_type": "code",
        "colab": {}
      },
      "source": [
        "allowed_word_types = [\"J\",\"R\",\"V\"]"
      ],
      "execution_count": 0,
      "outputs": []
    },
    {
      "cell_type": "code",
      "metadata": {
        "id": "chJ8bcsLbMbN",
        "colab_type": "code",
        "colab": {}
      },
      "source": [
        "for positive in short_pos.split('\\n'):\n",
        "    documents.append( (positive, \"pos\") )\n",
        "    words = word_tokenize(positive)\n",
        "    pos = nltk.pos_tag(words)\n",
        "    for word in pos:\n",
        "        if word[1][0] in allowed_word_types:\n",
        "            all_words.append(word[0].lower())\n",
        "\n",
        "    \n",
        "for negative in short_neg.split('\\n'):\n",
        "    documents.append( (negative, \"neg\") )\n",
        "    words = word_tokenize(negative)\n",
        "    pos = nltk.pos_tag(words)\n",
        "    for word in pos:\n",
        "        if word[1][0] in allowed_word_types:\n",
        "            all_words.append(word[0].lower())\n",
        "\n"
      ],
      "execution_count": 0,
      "outputs": []
    },
    {
      "cell_type": "code",
      "metadata": {
        "id": "Cn7hDZe0bxkv",
        "colab_type": "code",
        "outputId": "ee2a14c3-00ce-463f-982f-b98c1c28a810",
        "colab": {
          "base_uri": "https://localhost:8080/",
          "height": 68
        }
      },
      "source": [
        "nltk.download('punkt')"
      ],
      "execution_count": 0,
      "outputs": [
        {
          "output_type": "stream",
          "text": [
            "[nltk_data] Downloading package punkt to /root/nltk_data...\n",
            "[nltk_data]   Unzipping tokenizers/punkt.zip.\n"
          ],
          "name": "stdout"
        },
        {
          "output_type": "execute_result",
          "data": {
            "text/plain": [
              "True"
            ]
          },
          "metadata": {
            "tags": []
          },
          "execution_count": 14
        }
      ]
    },
    {
      "cell_type": "code",
      "metadata": {
        "id": "GZ6bbmnZb1HI",
        "colab_type": "code",
        "outputId": "31c0dfdd-3064-42c5-c866-12bedb74c968",
        "colab": {
          "base_uri": "https://localhost:8080/",
          "height": 85
        }
      },
      "source": [
        " nltk.download('averaged_perceptron_tagger')"
      ],
      "execution_count": 0,
      "outputs": [
        {
          "output_type": "stream",
          "text": [
            "[nltk_data] Downloading package averaged_perceptron_tagger to\n",
            "[nltk_data]     /root/nltk_data...\n",
            "[nltk_data]   Unzipping taggers/averaged_perceptron_tagger.zip.\n"
          ],
          "name": "stdout"
        },
        {
          "output_type": "execute_result",
          "data": {
            "text/plain": [
              "True"
            ]
          },
          "metadata": {
            "tags": []
          },
          "execution_count": 16
        }
      ]
    },
    {
      "cell_type": "code",
      "metadata": {
        "id": "Y7lNccCwb7Pe",
        "colab_type": "code",
        "colab": {}
      },
      "source": [
        "save_documents = open(\"documents.pickle\",\"wb\")\n",
        "pickle.dump(documents, save_documents)\n",
        "save_documents.close()"
      ],
      "execution_count": 0,
      "outputs": []
    },
    {
      "cell_type": "code",
      "metadata": {
        "id": "UsLQHt3YcTnn",
        "colab_type": "code",
        "colab": {}
      },
      "source": [
        "all_words = nltk.FreqDist(all_words)"
      ],
      "execution_count": 0,
      "outputs": []
    },
    {
      "cell_type": "code",
      "metadata": {
        "id": "84MxoLZOePgK",
        "colab_type": "code",
        "outputId": "3feb2adc-0426-4213-e96a-9b8d2a5ddb8e",
        "colab": {
          "base_uri": "https://localhost:8080/",
          "height": 1000
        }
      },
      "source": [
        "all_words"
      ],
      "execution_count": 0,
      "outputs": [
        {
          "output_type": "execute_result",
          "data": {
            "text/plain": [
              "FreqDist({'is': 3559,\n",
              "          'destined': 8,\n",
              "          'be': 939,\n",
              "          '21st': 4,\n",
              "          'new': 206,\n",
              "          'conan': 2,\n",
              "          \"'s\": 1711,\n",
              "          'going': 86,\n",
              "          'make': 273,\n",
              "          'even': 382,\n",
              "          'greater': 7,\n",
              "          'arnold': 6,\n",
              "          'jean-claud': 1,\n",
              "          'steven': 24,\n",
              "          'gorgeously': 6,\n",
              "          'elaborate': 9,\n",
              "          'so': 523,\n",
              "          'huge': 20,\n",
              "          'not': 831,\n",
              "          'adequately': 4,\n",
              "          'describe': 8,\n",
              "          'expanded': 4,\n",
              "          'effective': 31,\n",
              "          'too-tepid': 1,\n",
              "          'sometimes': 84,\n",
              "          'go': 113,\n",
              "          'have': 640,\n",
              "          'good': 370,\n",
              "          'start': 12,\n",
              "          'rare': 51,\n",
              "          'honest': 34,\n",
              "          'keenly': 3,\n",
              "          'observed': 5,\n",
              "          'does': 417,\n",
              "          \"n't\": 940,\n",
              "          'feel': 102,\n",
              "          'provides': 30,\n",
              "          'great': 160,\n",
              "          'neurotic': 4,\n",
              "          'reached': 4,\n",
              "          'absolute': 4,\n",
              "          'perhaps': 34,\n",
              "          'ever': 142,\n",
              "          'made': 193,\n",
              "          'has': 730,\n",
              "          'more': 728,\n",
              "          'literally': 13,\n",
              "          'showed': 1,\n",
              "          'hell': 3,\n",
              "          'paved': 2,\n",
              "          'turns': 48,\n",
              "          'snappy': 7,\n",
              "          'curls': 1,\n",
              "          'clever': 39,\n",
              "          'want': 88,\n",
              "          'hate': 21,\n",
              "          'somehow': 17,\n",
              "          'pulls': 12,\n",
              "          'off': 118,\n",
              "          'take': 103,\n",
              "          'offers': 41,\n",
              "          'refreshingly': 20,\n",
              "          'different': 43,\n",
              "          'asian': 8,\n",
              "          'well': 196,\n",
              "          'seeing': 39,\n",
              "          'talking': 17,\n",
              "          'singing': 5,\n",
              "          'really': 197,\n",
              "          'surprises': 3,\n",
              "          'low-key': 13,\n",
              "          'genuine': 31,\n",
              "          'fed': 1,\n",
              "          'greatest': 18,\n",
              "          'family-oriented': 2,\n",
              "          'fantasy-adventure': 1,\n",
              "          'ultimately': 115,\n",
              "          'ponders': 1,\n",
              "          'need': 53,\n",
              "          'much': 386,\n",
              "          'utterly': 29,\n",
              "          'wrote': 10,\n",
              "          'most': 402,\n",
              "          'famous': 10,\n",
              "          'lived': 11,\n",
              "          'comes': 113,\n",
              "          'illuminating': 5,\n",
              "          'overly': 17,\n",
              "          'talky': 5,\n",
              "          'masterpiece': 1,\n",
              "          'enrapturing': 1,\n",
              "          'tempt': 1,\n",
              "          'willing': 13,\n",
              "          'probe': 3,\n",
              "          'inscrutable': 1,\n",
              "          'fresh': 50,\n",
              "          'true': 75,\n",
              "          'thoughtful': 33,\n",
              "          'provocative': 28,\n",
              "          'insistently': 2,\n",
              "          'humanizing': 2,\n",
              "          'includes': 7,\n",
              "          'top': 11,\n",
              "          'working': 26,\n",
              "          'independent': 8,\n",
              "          'lovely': 28,\n",
              "          'amazing': 19,\n",
              "          'involves': 2,\n",
              "          'incisive': 7,\n",
              "          'bleakly': 2,\n",
              "          'amusing': 52,\n",
              "          'frighteningly': 4,\n",
              "          'evocative': 12,\n",
              "          'hypnotic': 6,\n",
              "          'composed': 7,\n",
              "          'connect': 9,\n",
              "          'nice': 32,\n",
              "          'standard': 15,\n",
              "          'moviegoing': 3,\n",
              "          'few': 139,\n",
              "          'doing': 30,\n",
              "          'dedicated': 2,\n",
              "          'good-hearted': 4,\n",
              "          'occasionally': 45,\n",
              "          'melodramatic': 25,\n",
              "          'also': 153,\n",
              "          'extremely': 25,\n",
              "          'idealistic': 3,\n",
              "          'brings': 21,\n",
              "          'out': 261,\n",
              "          'latent': 1,\n",
              "          '15-year-old': 2,\n",
              "          'about': 42,\n",
              "          'maintains': 8,\n",
              "          'brisk': 5,\n",
              "          'races': 3,\n",
              "          'familiar': 63,\n",
              "          'however': 30,\n",
              "          'lacks': 49,\n",
              "          'epic': 8,\n",
              "          'often': 135,\n",
              "          'associated': 4,\n",
              "          'as': 337,\n",
              "          'earlier': 11,\n",
              "          'helps': 12,\n",
              "          'down': 115,\n",
              "          'pint-sized': 2,\n",
              "          'play': 30,\n",
              "          'resembles': 8,\n",
              "          'real': 132,\n",
              "          'guaranteed': 6,\n",
              "          'move': 12,\n",
              "          'shook': 1,\n",
              "          'rattled': 1,\n",
              "          'rolled': 3,\n",
              "          'masterful': 9,\n",
              "          'deceptive': 1,\n",
              "          'compelling': 64,\n",
              "          'forgettable': 24,\n",
              "          'effectively': 11,\n",
              "          'teach': 4,\n",
              "          'think': 83,\n",
              "          'unfortunately': 30,\n",
              "          'r-rated': 2,\n",
              "          'paid': 14,\n",
              "          'easy': 53,\n",
              "          'give': 80,\n",
              "          'crush': 4,\n",
              "          'funeral': 5,\n",
              "          'far': 137,\n",
              "          'hugh': 7,\n",
              "          'literate': 7,\n",
              "          'smart': 43,\n",
              "          'never': 262,\n",
              "          'took': 13,\n",
              "          'always': 73,\n",
              "          'seemed': 10,\n",
              "          'static': 10,\n",
              "          'perfectly': 32,\n",
              "          'captures': 27,\n",
              "          'two-lane': 1,\n",
              "          'roadside': 1,\n",
              "          'permeate': 1,\n",
              "          'almost': 127,\n",
              "          'spooky': 9,\n",
              "          'calculating': 3,\n",
              "          'lolita': 2,\n",
              "          'best': 232,\n",
              "          'distinguished': 5,\n",
              "          'distinctive': 10,\n",
              "          'bona-fide': 1,\n",
              "          'fascinating': 65,\n",
              "          'had': 110,\n",
              "          'reap': 3,\n",
              "          'recent': 49,\n",
              "          'are': 733,\n",
              "          'outlandish': 4,\n",
              "          'border': 1,\n",
              "          'being': 164,\n",
              "          'heavy': 25,\n",
              "          'beginning': 10,\n",
              "          'creep': 2,\n",
              "          'newton': 1,\n",
              "          'draws': 9,\n",
              "          'acts': 3,\n",
              "          'better': 167,\n",
              "          'known': 8,\n",
              "          'loses': 22,\n",
              "          'last-minute': 3,\n",
              "          'happy': 23,\n",
              "          'ending': 58,\n",
              "          'less': 133,\n",
              "          'plausible': 2,\n",
              "          'though': 15,\n",
              "          'novel': 6,\n",
              "          'surely': 15,\n",
              "          'called': 23,\n",
              "          'exhilarating': 16,\n",
              "          'el': 10,\n",
              "          'que': 12,\n",
              "          'vale': 1,\n",
              "          'makes': 252,\n",
              "          'strong': 58,\n",
              "          'creating': 15,\n",
              "          'motown': 2,\n",
              "          'lips': 1,\n",
              "          'chanting': 1,\n",
              "          'long': 167,\n",
              "          'braided': 1,\n",
              "          'little': 302,\n",
              "          'wipe': 1,\n",
              "          'away': 79,\n",
              "          'jeweled': 1,\n",
              "          'gosling': 3,\n",
              "          'dwarfs': 1,\n",
              "          'else': 55,\n",
              "          'gives': 87,\n",
              "          'do': 290,\n",
              "          'know': 85,\n",
              "          'yet': 117,\n",
              "          'lacerating': 1,\n",
              "          'darkly': 10,\n",
              "          'spoofing': 2,\n",
              "          'old': 106,\n",
              "          'giant': 16,\n",
              "          'acknowledges': 3,\n",
              "          'celebrates': 9,\n",
              "          'get': 160,\n",
              "          'watching': 110,\n",
              "          'engaging': 49,\n",
              "          'eccentric': 13,\n",
              "          'cheap': 24,\n",
              "          'unassuming': 5,\n",
              "          'works': 60,\n",
              "          'listen': 7,\n",
              "          'reading': 12,\n",
              "          'such': 115,\n",
              "          'likeable': 5,\n",
              "          'beautifully': 54,\n",
              "          'orchestrates': 1,\n",
              "          'self-absorbed': 3,\n",
              "          'begins': 25,\n",
              "          'open': 18,\n",
              "          'snow': 9,\n",
              "          'lovable': 3,\n",
              "          'siberian': 1,\n",
              "          'hosts': 1,\n",
              "          'parka-wrapped': 1,\n",
              "          'everytime': 1,\n",
              "          'undercover': 7,\n",
              "          'run': 17,\n",
              "          'finds': 23,\n",
              "          'surprise': 6,\n",
              "          'amuse': 6,\n",
              "          'original': 100,\n",
              "          'rips': 2,\n",
              "          'many': 183,\n",
              "          'adams': 2,\n",
              "          'contributes': 1,\n",
              "          '\\x97': 4,\n",
              "          'potential': 9,\n",
              "          'simply': 72,\n",
              "          'intrusive': 1,\n",
              "          'whole': 63,\n",
              "          'certainly': 55,\n",
              "          'intended': 19,\n",
              "          'now': 64,\n",
              "          'america': 4,\n",
              "          'plucky': 2,\n",
              "          'british': 22,\n",
              "          'still': 179,\n",
              "          'charming': 35,\n",
              "          'here': 153,\n",
              "          \"'re\": 173,\n",
              "          'enlightened': 1,\n",
              "          'other': 167,\n",
              "          'undeniably': 11,\n",
              "          'playful': 14,\n",
              "          'pleasant': 19,\n",
              "          'enough': 260,\n",
              "          'held': 11,\n",
              "          'together': 77,\n",
              "          'skilled': 2,\n",
              "          'ensemble': 25,\n",
              "          'american': 110,\n",
              "          'troubled': 3,\n",
              "          'been': 266,\n",
              "          'hit-or-miss': 2,\n",
              "          'bringing': 11,\n",
              "          'beloved': 4,\n",
              "          'tuck': 3,\n",
              "          'just': 438,\n",
              "          'involved': 24,\n",
              "          'layered': 4,\n",
              "          'astonishing': 10,\n",
              "          'animated': 32,\n",
              "          'depicts': 4,\n",
              "          'inner': 8,\n",
              "          'uncontrolled': 1,\n",
              "          'intense': 16,\n",
              "          'invincible': 6,\n",
              "          'alive': 21,\n",
              "          'living': 10,\n",
              "          'portraying': 4,\n",
              "          'complex': 41,\n",
              "          'morvern': 6,\n",
              "          'callar': 1,\n",
              "          'meanders': 1,\n",
              "          'shocking': 11,\n",
              "          'avoids': 6,\n",
              "          'obvious': 52,\n",
              "          'too': 459,\n",
              "          'replete': 4,\n",
              "          'flattering': 3,\n",
              "          'simmering': 2,\n",
              "          'psychological': 41,\n",
              "          'sudden': 6,\n",
              "          'slow': 47,\n",
              "          'preceded': 3,\n",
              "          'intelligent': 41,\n",
              "          'coming-of-age': 25,\n",
              "          'arduous': 2,\n",
              "          'sensitive': 26,\n",
              "          'young': 93,\n",
              "          'foster': 2,\n",
              "          'fierce': 9,\n",
              "          'pull': 9,\n",
              "          'free': 17,\n",
              "          'dangerous': 14,\n",
              "          'domineering': 1,\n",
              "          'truly': 47,\n",
              "          'moving': 63,\n",
              "          'perfect': 40,\n",
              "          'done': 65,\n",
              "          'right': 85,\n",
              "          'help': 30,\n",
              "          'heal': 6,\n",
              "          'clarify': 2,\n",
              "          'delicately': 8,\n",
              "          'deeply': 41,\n",
              "          'felt': 25,\n",
              "          'masterfully': 8,\n",
              "          'stylized': 11,\n",
              "          'maverick': 2,\n",
              "          'deftly': 18,\n",
              "          'wrought': 2,\n",
              "          'richer': 8,\n",
              "          'work': 45,\n",
              "          'coloring': 1,\n",
              "          'rather': 119,\n",
              "          'either': 12,\n",
              "          'loving': 7,\n",
              "          'rolling': 5,\n",
              "          'loved': 16,\n",
              "          'incredible': 6,\n",
              "          'ingeniously': 1,\n",
              "          'constructed': 17,\n",
              "          'were': 118,\n",
              "          'wait': 14,\n",
              "          'see': 177,\n",
              "          'happens': 18,\n",
              "          'next': 52,\n",
              "          'challenges': 6,\n",
              "          'confront': 4,\n",
              "          'sexual': 28,\n",
              "          'absorbing': 18,\n",
              "          'disturbing': 19,\n",
              "          'originally': 1,\n",
              "          'gone': 37,\n",
              "          'measured': 8,\n",
              "          'painful': 22,\n",
              "          'watch': 87,\n",
              "          'rewarded': 6,\n",
              "          'accomplished': 15,\n",
              "          'riveting': 15,\n",
              "          'startling': 8,\n",
              "          'depressing': 19,\n",
              "          'iranian': 13,\n",
              "          'rural': 4,\n",
              "          'close': 38,\n",
              "          'imaginative': 20,\n",
              "          'aside': 18,\n",
              "          'gritty': 14,\n",
              "          'gets': 104,\n",
              "          'preposterous': 13,\n",
              "          'thoroughly': 32,\n",
              "          'misogynistic': 3,\n",
              "          'incredibly': 15,\n",
              "          'beautiful': 45,\n",
              "          'look': 70,\n",
              "          'o': 11,\n",
              "          'funny': 255,\n",
              "          'demonstrate': 6,\n",
              "          'hong': 6,\n",
              "          'overpraised': 1,\n",
              "          'educational': 6,\n",
              "          'catchy': 1,\n",
              "          'entire': 33,\n",
              "          'exciting': 27,\n",
              "          'care': 56,\n",
              "          'directs': 10,\n",
              "          'absorbs': 2,\n",
              "          'uses': 33,\n",
              "          'focused': 8,\n",
              "          'sincere': 24,\n",
              "          'intact': 2,\n",
              "          'archival': 5,\n",
              "          'horrifying': 9,\n",
              "          'photographs': 1,\n",
              "          'reel-to-reel': 1,\n",
              "          'entertaining': 113,\n",
              "          'create': 24,\n",
              "          'song': 1,\n",
              "          'powerful': 51,\n",
              "          'anthropologically': 1,\n",
              "          'detailed': 13,\n",
              "          \"early-'80s\": 1,\n",
              "          'significant': 10,\n",
              "          'overstated': 3,\n",
              "          'lifts': 5,\n",
              "          'firmly': 6,\n",
              "          'jarring': 2,\n",
              "          'hard': 114,\n",
              "          'back': 92,\n",
              "          'introduces': 4,\n",
              "          'unusual': 19,\n",
              "          'normal': 3,\n",
              "          'barely': 36,\n",
              "          'sustain': 28,\n",
              "          'interstitial': 1,\n",
              "          'imax': 11,\n",
              "          '3-d': 3,\n",
              "          'disappear': 2,\n",
              "          'vertiginous': 1,\n",
              "          'opened': 3,\n",
              "          'up': 369,\n",
              "          'imaginatively': 3,\n",
              "          'fans': 1,\n",
              "          'dormant': 1,\n",
              "          'national': 15,\n",
              "          'calcified': 1,\n",
              "          'chronic': 1,\n",
              "          'roller-coaster': 2,\n",
              "          'i': 199,\n",
              "          'enjoyed': 16,\n",
              "          'was': 234,\n",
              "          'surprised': 6,\n",
              "          'quickly': 27,\n",
              "          'faded': 3,\n",
              "          'sophisticated': 21,\n",
              "          'brash': 2,\n",
              "          'sardonic': 6,\n",
              "          'completely': 51,\n",
              "          'joyful': 4,\n",
              "          'ernest': 2,\n",
              "          'accelerated': 1,\n",
              "          'refreshing': 17,\n",
              "          'korean': 7,\n",
              "          'female': 24,\n",
              "          'high': 71,\n",
              "          'face': 5,\n",
              "          'uphill': 2,\n",
              "          'try': 24,\n",
              "          'deeper': 15,\n",
              "          'lovers-on-the-run': 1,\n",
              "          'common': 14,\n",
              "          'double': 7,\n",
              "          'previous': 25,\n",
              "          'again-courage': 1,\n",
              "          'self-sacrifice': 1,\n",
              "          'possible': 35,\n",
              "          'outshine': 3,\n",
              "          'then': 106,\n",
              "          'romantic': 112,\n",
              "          'operates': 4,\n",
              "          'own': 185,\n",
              "          'self-contained': 1,\n",
              "          'blue': 18,\n",
              "          'drink': 4,\n",
              "          'ultimate': 24,\n",
              "          'filled': 26,\n",
              "          'pure': 20,\n",
              "          'seen': 116,\n",
              "          'tempting': 5,\n",
              "          'regard': 1,\n",
              "          'quizzical': 1,\n",
              "          'allows': 18,\n",
              "          'finally': 37,\n",
              "          'feel-good': 13,\n",
              "          'edited': 8,\n",
              "          'shot': 24,\n",
              "          'syncopated': 1,\n",
              "          'mimicking': 1,\n",
              "          'making': 70,\n",
              "          'rousing': 6,\n",
              "          'invigorating': 3,\n",
              "          'lacking': 26,\n",
              "          'mtv': 1,\n",
              "          'mostly': 56,\n",
              "          'engrossing': 30,\n",
              "          'psychologically': 8,\n",
              "          'resonant': 9,\n",
              "          'memory-as-identity': 1,\n",
              "          'secret': 10,\n",
              "          'intermittent': 2,\n",
              "          'reaffirming': 2,\n",
              "          'long-held': 1,\n",
              "          'indeed': 24,\n",
              "          'erasing': 1,\n",
              "          'recasts': 1,\n",
              "          'takes': 102,\n",
              "          'dramatic': 49,\n",
              "          'gut-wrenching': 4,\n",
              "          'holocaust': 6,\n",
              "          'mainly': 12,\n",
              "          'told': 37,\n",
              "          'there': 54,\n",
              "          's': 5,\n",
              "          'personal': 42,\n",
              "          'regarding': 5,\n",
              "          'means': 11,\n",
              "          'big': 156,\n",
              "          'iconic': 2,\n",
              "          'gambol': 1,\n",
              "          'fluidly': 1,\n",
              "          'compassionate': 1,\n",
              "          'somewhere': 21,\n",
              "          'short': 65,\n",
              "          'modern': 51,\n",
              "          'agreeably': 2,\n",
              "          'unpretentious': 5,\n",
              "          'spend': 15,\n",
              "          'digital-video': 1,\n",
              "          'stand-up': 10,\n",
              "          'very': 264,\n",
              "          'teen': 27,\n",
              "          'swimming': 4,\n",
              "          'tell': 37,\n",
              "          'casts': 3,\n",
              "          'little-known': 3,\n",
              "          'key': 9,\n",
              "          'intriguing': 41,\n",
              "          'constantly': 13,\n",
              "          'frustrates': 2,\n",
              "          'deconstructing': 1,\n",
              "          'doubtless': 2,\n",
              "          'extreme': 21,\n",
              "          'ops': 1,\n",
              "          'exceeds': 2,\n",
              "          'pay': 16,\n",
              "          'hear': 10,\n",
              "          'suffering': 4,\n",
              "          'afghan': 2,\n",
              "          'unaffected': 3,\n",
              "          'human': 100,\n",
              "          'thunderous': 1,\n",
              "          'first': 146,\n",
              "          'quiet': 31,\n",
              "          'dilutes': 2,\n",
              "          'otherwise': 34,\n",
              "          'respectable': 8,\n",
              "          'fun': 30,\n",
              "          'excellent': 34,\n",
              "          'obviously': 21,\n",
              "          'struck': 4,\n",
              "          'responsive': 1,\n",
              "          'walk': 9,\n",
              "          'bracing': 3,\n",
              "          'classy': 2,\n",
              "          'left': 46,\n",
              "          'prove': 17,\n",
              "          'show': 35,\n",
              "          'nature': 1,\n",
              "          'proved': 4,\n",
              "          'important': 30,\n",
              "          'especially': 60,\n",
              "          'exactly': 44,\n",
              "          'gourmet': 1,\n",
              "          'fair': 15,\n",
              "          'coming': 27,\n",
              "          'shut': 3,\n",
              "          'vicarious': 2,\n",
              "          'last': 82,\n",
              "          'merely': 32,\n",
              "          'technical': 13,\n",
              "          'logistical': 1,\n",
              "          'russian': 9,\n",
              "          'marks': 8,\n",
              "          'cinematic': 82,\n",
              "          '[': 147,\n",
              "          ']': 96,\n",
              "          'talented': 26,\n",
              "          'terribly': 10,\n",
              "          'charismatic': 10,\n",
              "          'essential': 5,\n",
              "          'social': 39,\n",
              "          'spectacular': 15,\n",
              "          'infectious': 7,\n",
              "          'delight': 6,\n",
              "          'gloriously': 6,\n",
              "          'overcomes': 6,\n",
              "          'regular': 2,\n",
              "          'potent': 9,\n",
              "          'dulled': 2,\n",
              "          'slasher': 2,\n",
              "          'minor': 19,\n",
              "          'tries': 27,\n",
              "          'balance': 6,\n",
              "          'paints': 4,\n",
              "          'sad': 43,\n",
              "          'intensely': 6,\n",
              "          'shows': 38,\n",
              "          'special': 70,\n",
              "          'cobbled': 6,\n",
              "          'indulge': 2,\n",
              "          'forgotten': 14,\n",
              "          'win': 17,\n",
              "          'succeed': 9,\n",
              "          'following': 13,\n",
              "          'winning': 23,\n",
              "          'offering': 13,\n",
              "          'urban': 22,\n",
              "          'welcome': 20,\n",
              "          'giving': 25,\n",
              "          'same': 103,\n",
              "          '15-cent': 1,\n",
              "          'innocent': 7,\n",
              "          'well-meaning': 7,\n",
              "          'superior': 15,\n",
              "          'played': 22,\n",
              "          'boasts': 7,\n",
              "          'hogs': 1,\n",
              "          'fellow': 5,\n",
              "          'enjoyable': 62,\n",
              "          'conan-esque': 1,\n",
              "          'special-effects': 1,\n",
              "          'pictures': 3,\n",
              "          'enormously': 7,\n",
              "          'likable': 13,\n",
              "          'partly': 9,\n",
              "          'aware': 8,\n",
              "          'gleefully': 3,\n",
              "          'unconcerned': 2,\n",
              "          'determined': 16,\n",
              "          'entertain': 11,\n",
              "          'lively': 14,\n",
              "          'sharp': 32,\n",
              "          'partially': 1,\n",
              "          'kiss': 3,\n",
              "          'believed': 4,\n",
              "          'underwritten': 4,\n",
              "          'fooled': 2,\n",
              "          'deserves': 26,\n",
              "          'rambunctious': 1,\n",
              "          'jewish': 7,\n",
              "          'non-jew': 1,\n",
              "          'sweet': 60,\n",
              "          '\\x96': 10,\n",
              "          'harmless': 10,\n",
              "          'happiest': 1,\n",
              "          'surprising': 32,\n",
              "          'irish': 9,\n",
              "          'general': 21,\n",
              "          'borstal': 4,\n",
              "          'transparently': 3,\n",
              "          'slowly': 12,\n",
              "          'paced': 17,\n",
              "          'worth': 49,\n",
              "          'recommending': 2,\n",
              "          'marvelous': 9,\n",
              "          'michael': 18,\n",
              "          'faithful': 9,\n",
              "          'twin': 2,\n",
              "          'become': 54,\n",
              "          'precious': 15,\n",
              "          'stephen': 4,\n",
              "          'homespun': 1,\n",
              "          'documentary': 18,\n",
              "          'solidly': 7,\n",
              "          'seaworthy': 1,\n",
              "          'fantastical': 2,\n",
              "          'harsh': 7,\n",
              "          'sock-you-in-the-eye': 1,\n",
              "          'visual': 69,\n",
              "          'likely': 57,\n",
              "          'anywhere': 10,\n",
              "          'depend': 5,\n",
              "          'well-made': 15,\n",
              "          'certain': 28,\n",
              "          'non-reactionary': 1,\n",
              "          'count': 7,\n",
              "          'unforgettable': 7,\n",
              "          'remains': 44,\n",
              "          'solid': 54,\n",
              "          'somewhat': 31,\n",
              "          'heavy-handed': 20,\n",
              "          'steady': 5,\n",
              "          'follows': 10,\n",
              "          'resolutely': 8,\n",
              "          'realistic': 18,\n",
              "          'uncompromising': 10,\n",
              "          'kurdish': 1,\n",
              "          'claustrophobic': 7,\n",
              "          'captivating': 10,\n",
              "          'capture': 12,\n",
              "          \"'urban\": 1,\n",
              "          'attempts': 3,\n",
              "          'engagingly': 4,\n",
              "          'magnetic': 4,\n",
              "          'buried': 7,\n",
              "          'traditional': 12,\n",
              "          'moviemaking': 3,\n",
              "          'careful': 8,\n",
              "          'maybe': 32,\n",
              "          'past': 22,\n",
              "          'worst': 59,\n",
              "          'honestly': 11,\n",
              "          'analyze': 3,\n",
              "          'bad': 234,\n",
              "          'well-acted': 21,\n",
              "          'character-driven': 3,\n",
              "          'unexpected': 26,\n",
              "          'aptly': 3,\n",
              "          'tearing': 3,\n",
              "          'landmark': 2,\n",
              "          'cop': 4,\n",
              "          'understands': 11,\n",
              "          'amazingly': 8,\n",
              "          'understated': 10,\n",
              "          'delivered': 16,\n",
              "          'safe': 13,\n",
              "          'sound': 16,\n",
              "          '20-year-old': 1,\n",
              "          'travel': 2,\n",
              "          'outside': 2,\n",
              "          'enjoy': 57,\n",
              "          'nervous': 6,\n",
              "          'mild': 10,\n",
              "          'put': 55,\n",
              "          'spare': 10,\n",
              "          'borrowed': 4,\n",
              "          'understand': 20,\n",
              "          \"'m\": 50,\n",
              "          'sure': 50,\n",
              "          'miyazaki': 2,\n",
              "          'fascinated': 3,\n",
              "          'undoubtedly': 7,\n",
              "          'delighted': 3,\n",
              "          'good-natured': 10,\n",
              "          'slight': 22,\n",
              "          'insightful': 20,\n",
              "          'oscar-nominated': 2,\n",
              "          'ever-escalating': 1,\n",
              "          'say': 84,\n",
              "          'watchful': 2,\n",
              "          'parental': 3,\n",
              "          'admired': 2,\n",
              "          'moved': 8,\n",
              "          'love': 68,\n",
              "          'bored': 13,\n",
              "          'frustrated': 3,\n",
              "          'heartbreaking': 8,\n",
              "          'keep': 80,\n",
              "          'glued': 2,\n",
              "          'queen': 3,\n",
              "          'offer': 30,\n",
              "          'flaunting': 1,\n",
              "          'natural': 18,\n",
              "          'australian': 4,\n",
              "          'award-winning': 2,\n",
              "          'english': 10,\n",
              "          'terrific': 32,\n",
              "          'disguising': 2,\n",
              "          'dong': 8,\n",
              "          'lump-in-the-throat': 1,\n",
              "          'derives': 3,\n",
              "          'sticking': 5,\n",
              "          'keeps': 33,\n",
              "          'diverted': 1,\n",
              "          'lightens': 1,\n",
              "          'leaving': 13,\n",
              "          'interesting': 116,\n",
              "          'bigger-than-life': 1,\n",
              "          'bust': 2,\n",
              "          'blandly': 3,\n",
              "          'surgical': 2,\n",
              "          'crudely': 2,\n",
              "          'gripping': 21,\n",
              "          'questing': 1,\n",
              "          'racked': 1,\n",
              "          'becomes': 59,\n",
              "          'extends': 3,\n",
              "          'jean': 4,\n",
              "          'nocturnal': 1,\n",
              "          'wears': 12,\n",
              "          'b-movie': 13,\n",
              "          'realizes': 3,\n",
              "          'fully': 24,\n",
              "          'admirable': 16,\n",
              "          'early': 15,\n",
              "          'plays': 31,\n",
              "          'clashes': 1,\n",
              "          'unabashedly': 8,\n",
              "          'mixed': 13,\n",
              "          'combined': 7,\n",
              "          'understanding': 5,\n",
              "          'taken': 26,\n",
              "          'refined': 3,\n",
              "          'purely': 7,\n",
              "          'unabashed': 3,\n",
              "          'nonetheless': 9,\n",
              "          'inadvertently': 3,\n",
              "          'timely': 12,\n",
              "          'invaluable': 5,\n",
              "          'implicit': 2,\n",
              "          'u': 5,\n",
              "          'foreign': 14,\n",
              "          'trimmed': 2,\n",
              "          'lavish': 5,\n",
              "          'three-year-old': 1,\n",
              "          'satisfy': 8,\n",
              "          'grown-up': 5,\n",
              "          'unique': 20,\n",
              "          'possibly': 20,\n",
              "          'fictionalize': 1,\n",
              "          'clumsy': 14,\n",
              "          'equally': 22,\n",
              "          'admirably': 6,\n",
              "          'uncommercial': 2,\n",
              "          'mesmerizing': 15,\n",
              "          'exceedingly': 6,\n",
              "          'forget': 21,\n",
              "          'painfully': 21,\n",
              "          'impresses': 1,\n",
              "          'spy-movie': 2,\n",
              "          'examines': 6,\n",
              "          'seldom': 3,\n",
              "          'brought': 14,\n",
              "          'guessing': 6,\n",
              "          'slice-of-depression': 1,\n",
              "          'touches': 5,\n",
              "          'brilliantly': 12,\n",
              "          'updated': 3,\n",
              "          'grasped': 1,\n",
              "          'composing': 1,\n",
              "          'sorrowful': 2,\n",
              "          'hilarious': 44,\n",
              "          'alienated': 2,\n",
              "          'absurdist': 6,\n",
              "          'quite': 124,\n",
              "          'delightful': 25,\n",
              "          'persnickety': 1,\n",
              "          'thrilling': 11,\n",
              "          'infuriating': 3,\n",
              "          'least': 88,\n",
              "          'amy': 2,\n",
              "          'over': 32,\n",
              "          'typical': 22,\n",
              "          'polished': 13,\n",
              "          'portrayed': 3,\n",
              "          'christian': 10,\n",
              "          'singular': 4,\n",
              "          'only': 308,\n",
              "          'slightly': 25,\n",
              "          'magnified': 1,\n",
              "          'vex': 1,\n",
              "          'nearly': 69,\n",
              "          'impeccable': 9,\n",
              "          'penetrates': 1,\n",
              "          'unflinching': 9,\n",
              "          'tantalizing': 1,\n",
              "          'lead': 16,\n",
              "          'testud': 1,\n",
              "          'parmentier': 1,\n",
              "          'superlative': 2,\n",
              "          'unsentimental': 9,\n",
              "          'particularly': 42,\n",
              "          'aroused': 1,\n",
              "          'set': 33,\n",
              "          'strange': 30,\n",
              "          'stark': 4,\n",
              "          'lovingly': 6,\n",
              "          'perceptively': 1,\n",
              "          'filmed': 19,\n",
              "          'taste': 2,\n",
              "          'desiccated': 3,\n",
              "          'remarkably': 19,\n",
              "          'accessible': 17,\n",
              "          'affecting': 20,\n",
              "          'mind': 13,\n",
              "          'buy': 14,\n",
              "          'shadowy': 3,\n",
              "          'daring': 7,\n",
              "          'inventive': 23,\n",
              "          'impressive': 31,\n",
              "          'art': 13,\n",
              "          'narrative': 60,\n",
              "          'knew': 9,\n",
              "          'spin': 2,\n",
              "          'appreciate': 12,\n",
              "          'turn': 24,\n",
              "          'greatly': 4,\n",
              "          'silberstein': 1,\n",
              "          'large': 19,\n",
              "          'grow': 11,\n",
              "          'attached': 3,\n",
              "          'full': 116,\n",
              "          'believe': 48,\n",
              "          'immensely': 6,\n",
              "          'playing': 25,\n",
              "          'additional': 1,\n",
              "          'magical': 6,\n",
              "          'mama': 1,\n",
              "          'bit': 4,\n",
              "          'find': 104,\n",
              "          'third-act': 2,\n",
              "          'ribald': 1,\n",
              "          'touching': 41,\n",
              "          'please': 17,\n",
              "          'definitely': 30,\n",
              "          'hermetic': 2,\n",
              "          'todd': 6,\n",
              "          'shapelessly': 1,\n",
              "          'gratifying': 1,\n",
              "          'invites': 3,\n",
              "          'pick': 9,\n",
              "          'apart': 23,\n",
              "          'admit': 9,\n",
              "          'hit': 18,\n",
              "          'live': 37,\n",
              "          'astute': 4,\n",
              "          'middle': 14,\n",
              "          'musical': 16,\n",
              "          'desperate': 13,\n",
              "          'escape': 8,\n",
              "          'anyway': 10,\n",
              "          'faces': 10,\n",
              "          'difficult': 40,\n",
              "          'call': 25,\n",
              "          'anti-date': 1,\n",
              "          'horrid': 2,\n",
              "          'remember': 24,\n",
              "          'brimming': 4,\n",
              "          'speaks': 6,\n",
              "          'easily': 42,\n",
              "          'forever': 4,\n",
              "          'succeeded': 4,\n",
              "          'focusing': 4,\n",
              "          'intently': 1,\n",
              "          'quirky': 41,\n",
              "          'stands': 12,\n",
              "          'oppressive': 4,\n",
              "          'soft': 9,\n",
              "          'percolating': 2,\n",
              "          'using': 16,\n",
              "          'figurative': 1,\n",
              "          'even-handed': 1,\n",
              "          'ideological': 2,\n",
              "          'unloading': 1,\n",
              "          'continues': 11,\n",
              "          'ahead': 9,\n",
              "          'defines': 5,\n",
              "          'unapologetically': 2,\n",
              "          'dumb': 38,\n",
              "          'several': 35,\n",
              "          'greek-american': 1,\n",
              "          'happily': 8,\n",
              "          'testify': 1,\n",
              "          'comparative': 1,\n",
              "          'inhabited': 1,\n",
              "          'presenting': 3,\n",
              "          'impossible': 43,\n",
              "          'pumpkin': 2,\n",
              "          'forces': 6,\n",
              "          'first-time': 15,\n",
              "          'writer-director': 9,\n",
              "          'considering': 10,\n",
              "          'incendiary': 3,\n",
              "          'thought-provoking': 17,\n",
              "          'peculiar': 7,\n",
              "          ...})"
            ]
          },
          "metadata": {
            "tags": []
          },
          "execution_count": 27
        }
      ]
    },
    {
      "cell_type": "code",
      "metadata": {
        "id": "UI9tWNeOes-e",
        "colab_type": "code",
        "colab": {}
      },
      "source": [
        "word_features = list(all_words.keys())[:5000]"
      ],
      "execution_count": 0,
      "outputs": []
    },
    {
      "cell_type": "code",
      "metadata": {
        "id": "rr-3IO1Ge1E_",
        "colab_type": "code",
        "colab": {}
      },
      "source": [
        "save_word_features = open(\"word_features5k.pickle\",\"wb\")\n",
        "pickle.dump(word_features, save_word_features)\n",
        "save_word_features.close()\n"
      ],
      "execution_count": 0,
      "outputs": []
    },
    {
      "cell_type": "code",
      "metadata": {
        "id": "-6dOKjr7fOt0",
        "colab_type": "code",
        "colab": {}
      },
      "source": [
        "def find_features(document):\n",
        "    words = word_tokenize(document)\n",
        "    features = {}\n",
        "    for word in word_features:\n",
        "        features[word] = (word in words)\n",
        "\n",
        "    return features\n"
      ],
      "execution_count": 0,
      "outputs": []
    },
    {
      "cell_type": "code",
      "metadata": {
        "id": "gkT9euh3fj2K",
        "colab_type": "code",
        "colab": {}
      },
      "source": [
        "featuresets = [(find_features(review), category) for (review, category) in documents]"
      ],
      "execution_count": 0,
      "outputs": []
    },
    {
      "cell_type": "code",
      "metadata": {
        "id": "zNRpn4Rkf1vi",
        "colab_type": "code",
        "colab": {}
      },
      "source": [
        "random.shuffle(featuresets)\n"
      ],
      "execution_count": 0,
      "outputs": []
    },
    {
      "cell_type": "code",
      "metadata": {
        "id": "EOm89YXFf-x6",
        "colab_type": "code",
        "outputId": "ee683d42-7060-4608-f3ee-53bbe5e90aea",
        "colab": {
          "base_uri": "https://localhost:8080/",
          "height": 34
        }
      },
      "source": [
        "print(len(featuresets))"
      ],
      "execution_count": 0,
      "outputs": [
        {
          "output_type": "stream",
          "text": [
            "10666\n"
          ],
          "name": "stdout"
        }
      ]
    },
    {
      "cell_type": "code",
      "metadata": {
        "id": "Du0ZNhpEgR1Z",
        "colab_type": "code",
        "colab": {}
      },
      "source": [
        "testing_set = featuresets[10000:]\n",
        "training_set = featuresets[:10000]"
      ],
      "execution_count": 0,
      "outputs": []
    },
    {
      "cell_type": "code",
      "metadata": {
        "id": "Gj_syiCigVwt",
        "colab_type": "code",
        "outputId": "4c2d63da-16c1-49cf-dd57-7c3e59fce138",
        "colab": {
          "base_uri": "https://localhost:8080/",
          "height": 306
        }
      },
      "source": [
        "classifier = nltk.NaiveBayesClassifier.train(training_set)\n",
        "print(\"Original Naive Bayes Algo accuracy percent:\", (nltk.classify.accuracy(classifier, testing_set))*100)\n",
        "classifier.show_most_informative_features(15)\n",
        "\n",
        "save_classifier = open(\"originalnaivebayes5k.pickle\",\"wb\")\n",
        "pickle.dump(classifier, save_classifier)\n",
        "save_classifier.close()"
      ],
      "execution_count": 0,
      "outputs": [
        {
          "output_type": "stream",
          "text": [
            "Original Naive Bayes Algo accuracy percent: 70.72072072072072\n",
            "Most Informative Features\n",
            "              engrossing = True              pos : neg    =     21.8 : 1.0\n",
            "               inventive = True              pos : neg    =     15.8 : 1.0\n",
            "                intimate = True              pos : neg    =     14.4 : 1.0\n",
            "                  boring = True              neg : pos    =     14.0 : 1.0\n",
            "               wonderful = True              pos : neg    =     12.3 : 1.0\n",
            "                powerful = True              pos : neg    =     12.0 : 1.0\n",
            "            refreshingly = True              pos : neg    =     11.8 : 1.0\n",
            "             mesmerizing = True              pos : neg    =     11.8 : 1.0\n",
            "                    warm = True              pos : neg    =     11.5 : 1.0\n",
            "               realistic = True              pos : neg    =     11.1 : 1.0\n",
            "                  stupid = True              neg : pos    =     10.9 : 1.0\n",
            "                provides = True              pos : neg    =     10.7 : 1.0\n",
            "                captures = True              pos : neg    =     10.7 : 1.0\n",
            "                delicate = True              pos : neg    =     10.4 : 1.0\n",
            "                    dull = True              neg : pos    =     10.3 : 1.0\n"
          ],
          "name": "stdout"
        }
      ]
    },
    {
      "cell_type": "code",
      "metadata": {
        "id": "u7nj2o5TjWsc",
        "colab_type": "code",
        "outputId": "f4621b66-e5bd-4410-9455-fe15c9cfe17a",
        "colab": {
          "base_uri": "https://localhost:8080/",
          "height": 34
        }
      },
      "source": [
        "MNB_classifier = SklearnClassifier(MultinomialNB())\n",
        "MNB_classifier.train(training_set)\n",
        "print(\"MNB_classifier accuracy percent:\", (nltk.classify.accuracy(MNB_classifier, testing_set))*100)\n",
        "save_classifier = open(\"MNB_classifier5k.pickle\",\"wb\")\n",
        "pickle.dump(MNB_classifier, save_classifier)\n",
        "save_classifier.close()"
      ],
      "execution_count": 0,
      "outputs": [
        {
          "output_type": "stream",
          "text": [
            "MNB_classifier accuracy percent: 71.77177177177178\n"
          ],
          "name": "stdout"
        }
      ]
    },
    {
      "cell_type": "code",
      "metadata": {
        "id": "l7BxnwxNmJK5",
        "colab_type": "code",
        "outputId": "5ca1345d-fbf2-4d57-c0d4-600d323f9baa",
        "colab": {
          "base_uri": "https://localhost:8080/",
          "height": 34
        }
      },
      "source": [
        "BernoulliNB_classifier = SklearnClassifier(BernoulliNB())\n",
        "BernoulliNB_classifier.train(training_set)\n",
        "print(\"BernoulliNB_classifier accuracy percent:\", (nltk.classify.accuracy(BernoulliNB_classifier, testing_set))*100)\n",
        "\n",
        "save_classifier = open(\"BernoulliNB_classifier5k.pickle\",\"wb\")\n",
        "pickle.dump(BernoulliNB_classifier, save_classifier)\n",
        "save_classifier.close()\n"
      ],
      "execution_count": 0,
      "outputs": [
        {
          "output_type": "stream",
          "text": [
            "BernoulliNB_classifier accuracy percent: 70.12012012012012\n"
          ],
          "name": "stdout"
        }
      ]
    },
    {
      "cell_type": "code",
      "metadata": {
        "id": "4xfkzPN5mhXB",
        "colab_type": "code",
        "outputId": "6e55a115-40b6-4976-a043-0f05ea6c3f6f",
        "colab": {
          "base_uri": "https://localhost:8080/",
          "height": 88
        }
      },
      "source": [
        "LogisticRegression_classifier = SklearnClassifier(LogisticRegression())\n",
        "LogisticRegression_classifier.train(training_set)\n",
        "print(\"LogisticRegression_classifier accuracy percent:\", (nltk.classify.accuracy(LogisticRegression_classifier, testing_set))*100)\n",
        "\n",
        "save_classifier = open(\"LogisticRegression_classifier5k.pickle\",\"wb\")\n",
        "pickle.dump(LogisticRegression_classifier, save_classifier)\n",
        "save_classifier.close()\n"
      ],
      "execution_count": 0,
      "outputs": [
        {
          "output_type": "stream",
          "text": [
            "/usr/local/lib/python3.6/dist-packages/sklearn/linear_model/logistic.py:432: FutureWarning: Default solver will be changed to 'lbfgs' in 0.22. Specify a solver to silence this warning.\n",
            "  FutureWarning)\n"
          ],
          "name": "stderr"
        },
        {
          "output_type": "stream",
          "text": [
            "LogisticRegression_classifier accuracy percent: 70.42042042042041\n"
          ],
          "name": "stdout"
        }
      ]
    },
    {
      "cell_type": "code",
      "metadata": {
        "id": "j4eWVLQDm6ef",
        "colab_type": "code",
        "outputId": "94a9f7e4-024f-4dd3-d4ee-c5c46b385708",
        "colab": {
          "base_uri": "https://localhost:8080/",
          "height": 34
        }
      },
      "source": [
        "LinearSVC_classifier = SklearnClassifier(LinearSVC())\n",
        "LinearSVC_classifier.train(training_set)\n",
        "print(\"LinearSVC_classifier accuracy percent:\", (nltk.classify.accuracy(LinearSVC_classifier, testing_set))*100)\n",
        "\n",
        "save_classifier = open(\"LinearSVC_classifier5k.pickle\",\"wb\")\n",
        "pickle.dump(LinearSVC_classifier, save_classifier)\n",
        "save_classifier.close()"
      ],
      "execution_count": 0,
      "outputs": [
        {
          "output_type": "stream",
          "text": [
            "LinearSVC_classifier accuracy percent: 70.42042042042041\n"
          ],
          "name": "stdout"
        }
      ]
    },
    {
      "cell_type": "code",
      "metadata": {
        "id": "bBdGXD5ro0aW",
        "colab_type": "code",
        "outputId": "bd0f77c1-e608-4308-f108-b571a89e66d4",
        "colab": {
          "base_uri": "https://localhost:8080/",
          "height": 88
        }
      },
      "source": [
        "NuSVC_classifier = SklearnClassifier(NuSVC())\n",
        "NuSVC_classifier.train(training_set)\n",
        "print(\"NuSVC_classifier accuracy percent:\", (nltk.classify.accuracy(NuSVC_classifier, testing_set))*100)\n",
        "save_classifier = open(\"NuSVC_classifier5K.pickle\",\"wb\")\n",
        "pickle.dump(LinearSVC_classifier, save_classifier)\n",
        "save_classifier.close()\n"
      ],
      "execution_count": 0,
      "outputs": [
        {
          "output_type": "stream",
          "text": [
            "/usr/local/lib/python3.6/dist-packages/sklearn/svm/base.py:193: FutureWarning: The default value of gamma will change from 'auto' to 'scale' in version 0.22 to account better for unscaled features. Set gamma explicitly to 'auto' or 'scale' to avoid this warning.\n",
            "  \"avoid this warning.\", FutureWarning)\n"
          ],
          "name": "stderr"
        },
        {
          "output_type": "stream",
          "text": [
            "NuSVC_classifier accuracy percent: 69.81981981981981\n"
          ],
          "name": "stdout"
        }
      ]
    },
    {
      "cell_type": "code",
      "metadata": {
        "id": "bvB0OPGnpZXZ",
        "colab_type": "code",
        "outputId": "ceca7a74-3061-4a43-c3d8-8eeda729c62a",
        "colab": {
          "base_uri": "https://localhost:8080/",
          "height": 34
        }
      },
      "source": [
        "SGDC_classifier = SklearnClassifier(SGDClassifier())\n",
        "SGDC_classifier.train(training_set)\n",
        "print(\"SGDClassifier accuracy percent:\",nltk.classify.accuracy(SGDC_classifier, testing_set)*100)\n",
        "\n",
        "save_classifier = open(\"SGDC_classifier5k.pickle\",\"wb\")\n",
        "pickle.dump(SGDC_classifier, save_classifier)\n",
        "save_classifier.close()"
      ],
      "execution_count": 0,
      "outputs": [
        {
          "output_type": "stream",
          "text": [
            "SGDClassifier accuracy percent: 70.72072072072072\n"
          ],
          "name": "stdout"
        }
      ]
    },
    {
      "cell_type": "code",
      "metadata": {
        "id": "fYYabz7nut1v",
        "colab_type": "code",
        "outputId": "2e5eb7f7-4401-481f-e33b-18a67e55d5e4",
        "colab": {
          "base_uri": "https://localhost:8080/",
          "height": 88
        }
      },
      "source": [
        "SVC_classifier = SklearnClassifier(SVC())\n",
        "SVC_classifier.train(training_set)\n",
        "print(\"SVC_classifier accuracy percent:\", (nltk.classify.accuracy(SVC_classifier, testing_set))*100)\n",
        "save_classifier = open(\"SVC_classifier.pickle\",\"wb\")\n",
        "pickle.dump(SGDC_classifier, save_classifier)\n",
        "save_classifier.close()"
      ],
      "execution_count": 0,
      "outputs": [
        {
          "output_type": "stream",
          "text": [
            "/usr/local/lib/python3.6/dist-packages/sklearn/svm/base.py:193: FutureWarning: The default value of gamma will change from 'auto' to 'scale' in version 0.22 to account better for unscaled features. Set gamma explicitly to 'auto' or 'scale' to avoid this warning.\n",
            "  \"avoid this warning.\", FutureWarning)\n"
          ],
          "name": "stderr"
        },
        {
          "output_type": "stream",
          "text": [
            "SVC_classifier accuracy percent: 46.846846846846844\n"
          ],
          "name": "stdout"
        }
      ]
    },
    {
      "cell_type": "code",
      "metadata": {
        "id": "x92x5z89vP72",
        "colab_type": "code",
        "colab": {}
      },
      "source": [
        ""
      ],
      "execution_count": 0,
      "outputs": []
    }
  ]
}